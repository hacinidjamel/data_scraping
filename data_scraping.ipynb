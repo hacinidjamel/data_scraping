{
  "nbformat": 4,
  "nbformat_minor": 0,
  "metadata": {
    "colab": {
      "provenance": [],
      "authorship_tag": "ABX9TyOQXfXSCc471dc5ViEiyn9v",
      "include_colab_link": true
    },
    "kernelspec": {
      "name": "python3",
      "display_name": "Python 3"
    },
    "language_info": {
      "name": "python"
    }
  },
  "cells": [
    {
      "cell_type": "markdown",
      "metadata": {
        "id": "view-in-github",
        "colab_type": "text"
      },
      "source": [
        "<a href=\"https://colab.research.google.com/github/hacinidjamel/data_scraping/blob/main/data_scraping.ipynb\" target=\"_parent\"><img src=\"https://colab.research.google.com/assets/colab-badge.svg\" alt=\"Open In Colab\"/></a>"
      ]
    },
    {
      "cell_type": "code",
      "execution_count": null,
      "metadata": {
        "id": "PHqq-gAlbYdD"
      },
      "outputs": [],
      "source": [
        "from bs4 import BeautifulSoup\n",
        "import requests"
      ]
    },
    {
      "cell_type": "code",
      "source": [
        "url='https://www.scrapethissite.com/pages/forms/'"
      ],
      "metadata": {
        "id": "RbuhVgoTb3ya"
      },
      "execution_count": null,
      "outputs": []
    },
    {
      "cell_type": "code",
      "source": [
        "page = requests.get(url)"
      ],
      "metadata": {
        "id": "Y33UJAUkb_41"
      },
      "execution_count": null,
      "outputs": []
    },
    {
      "cell_type": "code",
      "source": [
        "Soup = BeautifulSoup(page.text,'html')"
      ],
      "metadata": {
        "id": "xjWe-Ewgc-ib"
      },
      "execution_count": null,
      "outputs": []
    },
    {
      "cell_type": "code",
      "source": [
        "print(Soup)"
      ],
      "metadata": {
        "id": "-glCi8lDcQ0L"
      },
      "execution_count": null,
      "outputs": []
    },
    {
      "cell_type": "code",
      "source": [
        "print(Soup.prettify())"
      ],
      "metadata": {
        "id": "P4bJ-KU5c_j3"
      },
      "execution_count": null,
      "outputs": []
    },
    {
      "cell_type": "code",
      "source": [
        "Soup.find_all(class_='name')"
      ],
      "metadata": {
        "colab": {
          "base_uri": "https://localhost:8080/"
        },
        "id": "-8ddUm5zeOvV",
        "outputId": "e22d7de3-4dc4-4e47-9f9f-11b88ed6e5f1"
      },
      "execution_count": null,
      "outputs": [
        {
          "output_type": "execute_result",
          "data": {
            "text/plain": [
              "[<td class=\"name\">\n",
              "                             Boston Bruins\n",
              "                         </td>,\n",
              " <td class=\"name\">\n",
              "                             Buffalo Sabres\n",
              "                         </td>,\n",
              " <td class=\"name\">\n",
              "                             Calgary Flames\n",
              "                         </td>,\n",
              " <td class=\"name\">\n",
              "                             Chicago Blackhawks\n",
              "                         </td>,\n",
              " <td class=\"name\">\n",
              "                             Detroit Red Wings\n",
              "                         </td>,\n",
              " <td class=\"name\">\n",
              "                             Edmonton Oilers\n",
              "                         </td>,\n",
              " <td class=\"name\">\n",
              "                             Hartford Whalers\n",
              "                         </td>,\n",
              " <td class=\"name\">\n",
              "                             Los Angeles Kings\n",
              "                         </td>,\n",
              " <td class=\"name\">\n",
              "                             Minnesota North Stars\n",
              "                         </td>,\n",
              " <td class=\"name\">\n",
              "                             Montreal Canadiens\n",
              "                         </td>,\n",
              " <td class=\"name\">\n",
              "                             New Jersey Devils\n",
              "                         </td>,\n",
              " <td class=\"name\">\n",
              "                             New York Islanders\n",
              "                         </td>,\n",
              " <td class=\"name\">\n",
              "                             New York Rangers\n",
              "                         </td>,\n",
              " <td class=\"name\">\n",
              "                             Philadelphia Flyers\n",
              "                         </td>,\n",
              " <td class=\"name\">\n",
              "                             Pittsburgh Penguins\n",
              "                         </td>,\n",
              " <td class=\"name\">\n",
              "                             Quebec Nordiques\n",
              "                         </td>,\n",
              " <td class=\"name\">\n",
              "                             St. Louis Blues\n",
              "                         </td>,\n",
              " <td class=\"name\">\n",
              "                             Toronto Maple Leafs\n",
              "                         </td>,\n",
              " <td class=\"name\">\n",
              "                             Vancouver Canucks\n",
              "                         </td>,\n",
              " <td class=\"name\">\n",
              "                             Washington Capitals\n",
              "                         </td>,\n",
              " <td class=\"name\">\n",
              "                             Winnipeg Jets\n",
              "                         </td>,\n",
              " <td class=\"name\">\n",
              "                             Boston Bruins\n",
              "                         </td>,\n",
              " <td class=\"name\">\n",
              "                             Buffalo Sabres\n",
              "                         </td>,\n",
              " <td class=\"name\">\n",
              "                             Calgary Flames\n",
              "                         </td>,\n",
              " <td class=\"name\">\n",
              "                             Chicago Blackhawks\n",
              "                         </td>]"
            ]
          },
          "metadata": {},
          "execution_count": 31
        }
      ]
    }
  ]
}